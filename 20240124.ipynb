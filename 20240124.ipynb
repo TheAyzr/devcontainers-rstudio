{
 "cells": [
  {
   "cell_type": "code",
   "execution_count": 3,
   "metadata": {
    "vscode": {
     "languageId": "r"
    }
   },
   "outputs": [],
   "source": [
    "a = 'abc'"
   ]
  },
  {
   "cell_type": "code",
   "execution_count": 9,
   "metadata": {
    "vscode": {
     "languageId": "r"
    }
   },
   "outputs": [
    {
     "data": {
      "text/html": [
       "TRUE"
      ],
      "text/latex": [
       "TRUE"
      ],
      "text/markdown": [
       "TRUE"
      ],
      "text/plain": [
       "[1] TRUE"
      ]
     },
     "metadata": {},
     "output_type": "display_data"
    },
    {
     "data": {
      "text/html": [
       "FALSE"
      ],
      "text/latex": [
       "FALSE"
      ],
      "text/markdown": [
       "FALSE"
      ],
      "text/plain": [
       "[1] FALSE"
      ]
     },
     "metadata": {},
     "output_type": "display_data"
    },
    {
     "data": {
      "text/html": [
       "FALSE"
      ],
      "text/latex": [
       "FALSE"
      ],
      "text/markdown": [
       "FALSE"
      ],
      "text/plain": [
       "[1] FALSE"
      ]
     },
     "metadata": {},
     "output_type": "display_data"
    },
    {
     "data": {
      "text/html": [
       "FALSE"
      ],
      "text/latex": [
       "FALSE"
      ],
      "text/markdown": [
       "FALSE"
      ],
      "text/plain": [
       "[1] FALSE"
      ]
     },
     "metadata": {},
     "output_type": "display_data"
    },
    {
     "data": {
      "text/html": [
       "TRUE"
      ],
      "text/latex": [
       "TRUE"
      ],
      "text/markdown": [
       "TRUE"
      ],
      "text/plain": [
       "[1] TRUE"
      ]
     },
     "metadata": {},
     "output_type": "display_data"
    }
   ],
   "source": [
    "is.character(a)\n",
    "is.numeric(a)\n",
    "is.logical(a)\n",
    "is.na(a)\n",
    "is.null(NULL)\n"
   ]
  },
  {
   "cell_type": "code",
   "execution_count": 16,
   "metadata": {
    "vscode": {
     "languageId": "r"
    }
   },
   "outputs": [
    {
     "data": {
      "text/html": [
       "3"
      ],
      "text/latex": [
       "3"
      ],
      "text/markdown": [
       "3"
      ],
      "text/plain": [
       "[1] 3"
      ]
     },
     "metadata": {},
     "output_type": "display_data"
    },
    {
     "data": {
      "text/html": [
       "1"
      ],
      "text/latex": [
       "1"
      ],
      "text/markdown": [
       "1"
      ],
      "text/plain": [
       "[1] 1"
      ]
     },
     "metadata": {},
     "output_type": "display_data"
    },
    {
     "data": {
      "text/html": [
       "49"
      ],
      "text/latex": [
       "49"
      ],
      "text/markdown": [
       "49"
      ],
      "text/plain": [
       "[1] 49"
      ]
     },
     "metadata": {},
     "output_type": "display_data"
    },
    {
     "data": {
      "text/html": [
       "20.0855369231877"
      ],
      "text/latex": [
       "20.0855369231877"
      ],
      "text/markdown": [
       "20.0855369231877"
      ],
      "text/plain": [
       "[1] 20.08554"
      ]
     },
     "metadata": {},
     "output_type": "display_data"
    }
   ],
   "source": [
    "7%/%2\n",
    "7%%2\n",
    "7^2\n",
    "exp(3) #자연상수 거듭제곱 "
   ]
  },
  {
   "cell_type": "code",
   "execution_count": 19,
   "metadata": {
    "vscode": {
     "languageId": "r"
    }
   },
   "outputs": [
    {
     "data": {
      "text/html": [
       "<style>\n",
       ".list-inline {list-style: none; margin:0; padding: 0}\n",
       ".list-inline>li {display: inline-block}\n",
       ".list-inline>li:not(:last-child)::after {content: \"\\00b7\"; padding: 0 .5ex}\n",
       "</style>\n",
       "<ol class=list-inline><li>2</li><li>4</li><li>6</li><li>5</li><li>7</li><li>9</li></ol>\n"
      ],
      "text/latex": [
       "\\begin{enumerate*}\n",
       "\\item 2\n",
       "\\item 4\n",
       "\\item 6\n",
       "\\item 5\n",
       "\\item 7\n",
       "\\item 9\n",
       "\\end{enumerate*}\n"
      ],
      "text/markdown": [
       "1. 2\n",
       "2. 4\n",
       "3. 6\n",
       "4. 5\n",
       "5. 7\n",
       "6. 9\n",
       "\n",
       "\n"
      ],
      "text/plain": [
       "[1] 2 4 6 5 7 9"
      ]
     },
     "metadata": {},
     "output_type": "display_data"
    }
   ],
   "source": [
    "#벡터 길이 동일하지 않은 경우 원소 많은 쪽 기준으로 반복 \n",
    "x = c(1, 2, 3)\n",
    "y = c(1, 2, 3 , 4, 5, 6)\n",
    "x+y"
   ]
  },
  {
   "cell_type": "code",
   "execution_count": 21,
   "metadata": {
    "vscode": {
     "languageId": "r"
    }
   },
   "outputs": [
    {
     "data": {
      "text/html": [
       "FALSE"
      ],
      "text/latex": [
       "FALSE"
      ],
      "text/markdown": [
       "FALSE"
      ],
      "text/plain": [
       "[1] FALSE"
      ]
     },
     "metadata": {},
     "output_type": "display_data"
    },
    {
     "data": {
      "text/html": [
       "TRUE"
      ],
      "text/latex": [
       "TRUE"
      ],
      "text/markdown": [
       "TRUE"
      ],
      "text/plain": [
       "[1] TRUE"
      ]
     },
     "metadata": {},
     "output_type": "display_data"
    },
    {
     "data": {
      "text/html": [
       "FALSE"
      ],
      "text/latex": [
       "FALSE"
      ],
      "text/markdown": [
       "FALSE"
      ],
      "text/plain": [
       "[1] FALSE"
      ]
     },
     "metadata": {},
     "output_type": "display_data"
    },
    {
     "data": {
      "text/html": [
       "TRUE"
      ],
      "text/latex": [
       "TRUE"
      ],
      "text/markdown": [
       "TRUE"
      ],
      "text/plain": [
       "[1] TRUE"
      ]
     },
     "metadata": {},
     "output_type": "display_data"
    }
   ],
   "source": [
    "!TRUE\n",
    "TRUE&TRUE #AND\n",
    "TRUE&FALSE \n",
    "TRUE|FALSE #OR"
   ]
  },
  {
   "cell_type": "code",
   "execution_count": 23,
   "metadata": {
    "vscode": {
     "languageId": "r"
    }
   },
   "outputs": [
    {
     "name": "stdout",
     "output_type": "stream",
     "text": [
      "paste                   package:base                   R Documentation\n",
      "\n",
      "_\bC_\bo_\bn_\bc_\ba_\bt_\be_\bn_\ba_\bt_\be _\bS_\bt_\br_\bi_\bn_\bg_\bs\n",
      "\n",
      "_\bD_\be_\bs_\bc_\br_\bi_\bp_\bt_\bi_\bo_\bn:\n",
      "\n",
      "     Concatenate vectors after converting to character.  Concatenation\n",
      "     happens in two basically different ways, determined by ‘collapse’\n",
      "     being a string or not.\n",
      "\n",
      "_\bU_\bs_\ba_\bg_\be:\n",
      "\n",
      "     paste (..., sep = \" \", collapse = NULL, recycle0 = FALSE)\n",
      "     paste0(...,            collapse = NULL, recycle0 = FALSE)\n",
      "     \n",
      "_\bA_\br_\bg_\bu_\bm_\be_\bn_\bt_\bs:\n",
      "\n",
      "     ...: one or more R objects, to be converted to character vectors.\n",
      "\n",
      "     sep: a character string to separate the terms.  Not\n",
      "          ‘NA_character_’.\n",
      "\n",
      "collapse: an optional character string to separate the results.  Not\n",
      "          ‘NA_character_’.  When ‘collapse’ is a string, the result is\n",
      "          always a string (‘character’ of length 1).\n",
      "\n",
      "recycle0: ‘logical’ indicating if zero-length character arguments\n",
      "          should result in the zero-length ‘character(0)’.  Note that\n",
      "          when ‘collapse’ is a string, ‘recycle0’ does _not_ recycle to\n",
      "          zero-length, but to ‘\"\"’.\n",
      "\n",
      "_\bD_\be_\bt_\ba_\bi_\bl_\bs:\n",
      "\n",
      "     ‘paste’ converts its arguments (_via_ ‘as.character’) to character\n",
      "     strings, and concatenates them (separating them by the string\n",
      "     given by ‘sep’).\n",
      "\n",
      "     If the arguments are vectors, they are concatenated term-by-term\n",
      "     to give a character vector result.  Vector arguments are recycled\n",
      "     as needed.  Zero-length arguments are recycled as ‘\"\"’ unless\n",
      "     ‘recycle0’ is ‘TRUE’ and ‘collapse’ is ‘NULL’.\n",
      "\n",
      "     Note that ‘paste()’ coerces ‘NA_character_’, the character missing\n",
      "     value, to ‘\"NA\"’ which may seem undesirable, e.g., when pasting\n",
      "     two character vectors, or very desirable, e.g. in ‘paste(\"the\n",
      "     value of p is \", p)’.\n",
      "\n",
      "     ‘paste0(..., collapse)’ is equivalent to ‘paste(..., sep = \"\",\n",
      "     collapse)’, slightly more efficiently.\n",
      "\n",
      "     If a value is specified for ‘collapse’, the values in the result\n",
      "     are then concatenated into a single string, with the elements\n",
      "     being separated by the value of ‘collapse’.\n",
      "\n",
      "_\bV_\ba_\bl_\bu_\be:\n",
      "\n",
      "     A character vector of the concatenated values.  This will be of\n",
      "     length zero if all the objects are, unless ‘collapse’ is non-NULL,\n",
      "     in which case it is ‘\"\"’ (a single empty string).\n",
      "\n",
      "     If any input into an element of the result is in UTF-8 (and none\n",
      "     are declared with encoding ‘\"bytes\"’, see ‘Encoding’), that\n",
      "     element will be in UTF-8, otherwise in the current encoding in\n",
      "     which case the encoding of the element is declared if the current\n",
      "     locale is either Latin-1 or UTF-8, at least one of the\n",
      "     corresponding inputs (including separators) had a declared\n",
      "     encoding and all inputs were either ASCII or declared.\n",
      "\n",
      "     If an input into an element is declared with encoding ‘\"bytes\"’,\n",
      "     no translation will be done of any of the elements and the\n",
      "     resulting element will have encoding ‘\"bytes\"’.  If ‘collapse’ is\n",
      "     non-NULL, this applies also to the second, collapsing, phase, but\n",
      "     some translation may have been done in pasting object together in\n",
      "     the first phase.\n",
      "\n",
      "_\bR_\be_\bf_\be_\br_\be_\bn_\bc_\be_\bs:\n",
      "\n",
      "     Becker, R. A., Chambers, J. M. and Wilks, A. R. (1988) _The New S\n",
      "     Language_.  Wadsworth & Brooks/Cole.\n",
      "\n",
      "_\bS_\be_\be _\bA_\bl_\bs_\bo:\n",
      "\n",
      "     ‘toString’ typically calls ‘paste(*, collapse=\", \")’.  String\n",
      "     manipulation with ‘as.character’, ‘substr’, ‘nchar’, ‘strsplit’;\n",
      "     further, ‘cat’ which concatenates and writes to a file, and\n",
      "     ‘sprintf’ for C like string construction.\n",
      "\n",
      "     ‘plotmath’ for the use of ‘paste’ in plot annotation.\n",
      "\n",
      "_\bE_\bx_\ba_\bm_\bp_\bl_\be_\bs:\n",
      "\n",
      "     ## When passing a single vector, paste0 and paste work like as.character.\n",
      "     paste0(1:12)\n",
      "     paste(1:12)        # same\n",
      "     as.character(1:12) # same\n",
      "     \n",
      "     ## If you pass several vectors to paste0, they are concatenated in a\n",
      "     ## vectorized way.\n",
      "     (nth <- paste0(1:12, c(\"st\", \"nd\", \"rd\", rep(\"th\", 9))))\n",
      "     \n",
      "     ## paste works the same, but separates each input with a space.\n",
      "     ## Notice that the recycling rules make every input as long as the longest input.\n",
      "     paste(month.abb, \"is the\", nth, \"month of the year.\")\n",
      "     paste(month.abb, letters)\n",
      "     \n",
      "     ## You can change the separator by passing a sep argument\n",
      "     ## which can be multiple characters.\n",
      "     paste(month.abb, \"is the\", nth, \"month of the year.\", sep = \"_*_\")\n",
      "     \n",
      "     ## To collapse the output into a single string, pass a collapse argument.\n",
      "     paste0(nth, collapse = \", \")\n",
      "     \n",
      "     ## For inputs of length 1, use the sep argument rather than collapse\n",
      "     paste(\"1st\", \"2nd\", \"3rd\", collapse = \", \") # probably not what you wanted\n",
      "     paste(\"1st\", \"2nd\", \"3rd\", sep = \", \")\n",
      "     \n",
      "     ## You can combine the sep and collapse arguments together.\n",
      "     paste(month.abb, nth, sep = \": \", collapse = \"; \")\n",
      "     \n",
      "     ## Using paste() in combination with strwrap() can be useful\n",
      "     ## for dealing with long strings.\n",
      "     (title <- paste(strwrap(\n",
      "         \"Stopping distance of cars (ft) vs. speed (mph) from Ezekiel (1930)\",\n",
      "         width = 30), collapse = \"\\n\"))\n",
      "     plot(dist ~ speed, cars, main = title)\n",
      "     \n",
      "     ## zero length arguments recycled as `\"\"` -- NB: `{}` <==> character(0)  here\n",
      "     paste({}, 1:2)\n",
      "     \n",
      "     ## 'recycle0 = TRUE' allows standard vectorized behaviour, i.e., zero-length\n",
      "     ##                   recycling resulting in zero-length result character(0):\n",
      "     valid <- FALSE\n",
      "     val <- pi\n",
      "     paste(\"The value is\", val[valid], \"-- not so good!\") # ->  \".. value is  -- not ..\"\n",
      "     paste(\"The value is\", val[valid], \"-- good: empty!\", recycle0=TRUE) # -> character(0)\n",
      "     \n",
      "     ## When 'collapse = <string>',  result is (length 1) string in all cases\n",
      "     paste(\"foo\", {}, \"bar\", collapse = \"|\")                  # |-->  \"foo  bar\"\n",
      "     paste(\"foo\", {},        collapse = \"|\", recycle0 = TRUE) # |-->  \"\"\n",
      "     ## If all arguments are empty (and collapse a string),   \"\"  results always\n",
      "     paste(    collapse = \"|\")\n",
      "     paste(    collapse = \"|\", recycle0 = TRUE)\n",
      "     paste({}, collapse = \"|\")\n",
      "     paste({}, collapse = \"|\", recycle0 = TRUE)\n",
      "     "
     ]
    }
   ],
   "source": [
    "help(paste) #?paste"
   ]
  },
  {
   "cell_type": "code",
   "execution_count": 32,
   "metadata": {
    "vscode": {
     "languageId": "r"
    }
   },
   "outputs": [
    {
     "data": {
      "text/html": [
       "'apple juice'"
      ],
      "text/latex": [
       "'apple juice'"
      ],
      "text/markdown": [
       "'apple juice'"
      ],
      "text/plain": [
       "[1] \"apple juice\""
      ]
     },
     "metadata": {},
     "output_type": "display_data"
    },
    {
     "data": {
      "text/html": [
       "<style>\n",
       ".list-inline {list-style: none; margin:0; padding: 0}\n",
       ".list-inline>li {display: inline-block}\n",
       ".list-inline>li:not(:last-child)::after {content: \"\\00b7\"; padding: 0 .5ex}\n",
       "</style>\n",
       "<ol class=list-inline><li>1</li><li>5</li><li>9</li><li>13</li><li>17</li></ol>\n"
      ],
      "text/latex": [
       "\\begin{enumerate*}\n",
       "\\item 1\n",
       "\\item 5\n",
       "\\item 9\n",
       "\\item 13\n",
       "\\item 17\n",
       "\\end{enumerate*}\n"
      ],
      "text/markdown": [
       "1. 1\n",
       "2. 5\n",
       "3. 9\n",
       "4. 13\n",
       "5. 17\n",
       "\n",
       "\n"
      ],
      "text/plain": [
       "[1]  1  5  9 13 17"
      ]
     },
     "metadata": {},
     "output_type": "display_data"
    },
    {
     "data": {
      "text/html": [
       "<style>\n",
       ".list-inline {list-style: none; margin:0; padding: 0}\n",
       ".list-inline>li {display: inline-block}\n",
       ".list-inline>li:not(:last-child)::after {content: \"\\00b7\"; padding: 0 .5ex}\n",
       "</style>\n",
       "<ol class=list-inline><li>'fuck you'</li><li>'fuck you'</li><li>'fuck you'</li></ol>\n"
      ],
      "text/latex": [
       "\\begin{enumerate*}\n",
       "\\item 'fuck you'\n",
       "\\item 'fuck you'\n",
       "\\item 'fuck you'\n",
       "\\end{enumerate*}\n"
      ],
      "text/markdown": [
       "1. 'fuck you'\n",
       "2. 'fuck you'\n",
       "3. 'fuck you'\n",
       "\n",
       "\n"
      ],
      "text/plain": [
       "[1] \"fuck you\" \"fuck you\" \"fuck you\""
      ]
     },
     "metadata": {},
     "output_type": "display_data"
    },
    {
     "data": {
      "text/html": [
       "<style>\n",
       ".list-inline {list-style: none; margin:0; padding: 0}\n",
       ".list-inline>li {display: inline-block}\n",
       ".list-inline>li:not(:last-child)::after {content: \"\\00b7\"; padding: 0 .5ex}\n",
       "</style>\n",
       "<ol class=list-inline><li>'x'</li><li>'y'</li></ol>\n"
      ],
      "text/latex": [
       "\\begin{enumerate*}\n",
       "\\item 'x'\n",
       "\\item 'y'\n",
       "\\end{enumerate*}\n"
      ],
      "text/markdown": [
       "1. 'x'\n",
       "2. 'y'\n",
       "\n",
       "\n"
      ],
      "text/plain": [
       "[1] \"x\" \"y\""
      ]
     },
     "metadata": {},
     "output_type": "display_data"
    },
    {
     "name": "stdout",
     "output_type": "stream",
     "text": [
      "[1] \"nah\"\n"
     ]
    }
   ],
   "source": [
    "paste('apple', 'juice')\n",
    "seq(1, 20, 4)\n",
    "rep('fuck you', 3)\n",
    "\n",
    "a = 5\n",
    "rm(a)\n",
    "\n",
    "ls()\n",
    "\n",
    "print('nah')"
   ]
  },
  {
   "cell_type": "code",
   "execution_count": 33,
   "metadata": {
    "vscode": {
     "languageId": "r"
    }
   },
   "outputs": [
    {
     "data": {
      "text/html": [
       "34"
      ],
      "text/latex": [
       "34"
      ],
      "text/markdown": [
       "34"
      ],
      "text/plain": [
       "[1] 34"
      ]
     },
     "metadata": {},
     "output_type": "display_data"
    },
    {
     "data": {
      "text/html": [
       "4.85714285714286"
      ],
      "text/latex": [
       "4.85714285714286"
      ],
      "text/markdown": [
       "4.85714285714286"
      ],
      "text/plain": [
       "[1] 4.857143"
      ]
     },
     "metadata": {},
     "output_type": "display_data"
    },
    {
     "data": {
      "text/html": [
       "4"
      ],
      "text/latex": [
       "4"
      ],
      "text/markdown": [
       "4"
      ],
      "text/plain": [
       "[1] 4"
      ]
     },
     "metadata": {},
     "output_type": "display_data"
    },
    {
     "data": {
      "text/html": [
       "12.4761904761905"
      ],
      "text/latex": [
       "12.4761904761905"
      ],
      "text/markdown": [
       "12.4761904761905"
      ],
      "text/plain": [
       "[1] 12.47619"
      ]
     },
     "metadata": {},
     "output_type": "display_data"
    },
    {
     "data": {
      "text/html": [
       "3.53216512583861"
      ],
      "text/latex": [
       "3.53216512583861"
      ],
      "text/markdown": [
       "3.53216512583861"
      ],
      "text/plain": [
       "[1] 3.532165"
      ]
     },
     "metadata": {},
     "output_type": "display_data"
    },
    {
     "data": {
      "text/plain": [
       "   Min. 1st Qu.  Median    Mean 3rd Qu.    Max. \n",
       "  1.000   3.000   4.000   4.857   5.500  12.000 "
      ]
     },
     "metadata": {},
     "output_type": "display_data"
    },
    {
     "data": {
      "text/html": [
       "<style>\n",
       ".list-inline {list-style: none; margin:0; padding: 0}\n",
       ".list-inline>li {display: inline-block}\n",
       ".list-inline>li:not(:last-child)::after {content: \"\\00b7\"; padding: 0 .5ex}\n",
       "</style>\n",
       "<ol class=list-inline><li>1</li><li>12</li></ol>\n"
      ],
      "text/latex": [
       "\\begin{enumerate*}\n",
       "\\item 1\n",
       "\\item 12\n",
       "\\end{enumerate*}\n"
      ],
      "text/markdown": [
       "1. 1\n",
       "2. 12\n",
       "\n",
       "\n"
      ],
      "text/plain": [
       "[1]  1 12"
      ]
     },
     "metadata": {},
     "output_type": "display_data"
    }
   ],
   "source": [
    "v  = c(1, 3, 4, 5, 6, 12, 3)\n",
    "sum(v)\n",
    "mean(v)\n",
    "median(v)\n",
    "var(v)\n",
    "sd(v)\n",
    "summary(v)\n",
    "range(v)"
   ]
  },
  {
   "cell_type": "code",
   "execution_count": 35,
   "metadata": {
    "vscode": {
     "languageId": "r"
    }
   },
   "outputs": [
    {
     "data": {
      "text/html": [
       "<style>\n",
       ".list-inline {list-style: none; margin:0; padding: 0}\n",
       ".list-inline>li {display: inline-block}\n",
       ".list-inline>li:not(:last-child)::after {content: \"\\00b7\"; padding: 0 .5ex}\n",
       "</style>\n",
       "<ol class=list-inline><li>1</li><li>3</li><li>4</li><li>5</li><li>6</li><li>12</li><li>3</li></ol>\n"
      ],
      "text/latex": [
       "\\begin{enumerate*}\n",
       "\\item 1\n",
       "\\item 3\n",
       "\\item 4\n",
       "\\item 5\n",
       "\\item 6\n",
       "\\item 12\n",
       "\\item 3\n",
       "\\end{enumerate*}\n"
      ],
      "text/markdown": [
       "1. 1\n",
       "2. 3\n",
       "3. 4\n",
       "4. 5\n",
       "5. 6\n",
       "6. 12\n",
       "7. 3\n",
       "\n",
       "\n"
      ],
      "text/plain": [
       "[1]  1  3  4  5  6 12  3"
      ]
     },
     "metadata": {},
     "output_type": "display_data"
    },
    {
     "data": {
      "text/html": [
       "3"
      ],
      "text/latex": [
       "3"
      ],
      "text/markdown": [
       "3"
      ],
      "text/plain": [
       "[1] 3"
      ]
     },
     "metadata": {},
     "output_type": "display_data"
    },
    {
     "data": {
      "text/html": [
       "<style>\n",
       ".list-inline {list-style: none; margin:0; padding: 0}\n",
       ".list-inline>li {display: inline-block}\n",
       ".list-inline>li:not(:last-child)::after {content: \"\\00b7\"; padding: 0 .5ex}\n",
       "</style>\n",
       "<ol class=list-inline><li>1</li><li>4</li><li>5</li><li>6</li><li>12</li><li>3</li></ol>\n"
      ],
      "text/latex": [
       "\\begin{enumerate*}\n",
       "\\item 1\n",
       "\\item 4\n",
       "\\item 5\n",
       "\\item 6\n",
       "\\item 12\n",
       "\\item 3\n",
       "\\end{enumerate*}\n"
      ],
      "text/markdown": [
       "1. 1\n",
       "2. 4\n",
       "3. 5\n",
       "4. 6\n",
       "5. 12\n",
       "6. 3\n",
       "\n",
       "\n"
      ],
      "text/plain": [
       "[1]  1  4  5  6 12  3"
      ]
     },
     "metadata": {},
     "output_type": "display_data"
    },
    {
     "data": {
      "text/html": [
       "<style>\n",
       ".list-inline {list-style: none; margin:0; padding: 0}\n",
       ".list-inline>li {display: inline-block}\n",
       ".list-inline>li:not(:last-child)::after {content: \"\\00b7\"; padding: 0 .5ex}\n",
       "</style>\n",
       "<ol class=list-inline><li>3</li><li>5</li></ol>\n"
      ],
      "text/latex": [
       "\\begin{enumerate*}\n",
       "\\item 3\n",
       "\\item 5\n",
       "\\end{enumerate*}\n"
      ],
      "text/markdown": [
       "1. 3\n",
       "2. 5\n",
       "\n",
       "\n"
      ],
      "text/plain": [
       "[1] 3 5"
      ]
     },
     "metadata": {},
     "output_type": "display_data"
    }
   ],
   "source": [
    "v\n",
    "v[2]\n",
    "v[-2]\n",
    "v[c(2,4)]"
   ]
  },
  {
   "cell_type": "code",
   "execution_count": 39,
   "metadata": {
    "vscode": {
     "languageId": "r"
    }
   },
   "outputs": [
    {
     "data": {
      "text/html": [
       "<table class=\"dataframe\">\n",
       "<caption>A matrix: 2 × 3 of type int</caption>\n",
       "<thead>\n",
       "\t<tr><th></th><th scope=col>I</th><th scope=col>II</th><th scope=col>III</th></tr>\n",
       "</thead>\n",
       "<tbody>\n",
       "\t<tr><th scope=row>a</th><td>1</td><td>3</td><td>5</td></tr>\n",
       "\t<tr><th scope=row>b</th><td>2</td><td>4</td><td>6</td></tr>\n",
       "</tbody>\n",
       "</table>\n"
      ],
      "text/latex": [
       "A matrix: 2 × 3 of type int\n",
       "\\begin{tabular}{r|lll}\n",
       "  & I & II & III\\\\\n",
       "\\hline\n",
       "\ta & 1 & 3 & 5\\\\\n",
       "\tb & 2 & 4 & 6\\\\\n",
       "\\end{tabular}\n"
      ],
      "text/markdown": [
       "\n",
       "A matrix: 2 × 3 of type int\n",
       "\n",
       "| <!--/--> | I | II | III |\n",
       "|---|---|---|---|\n",
       "| a | 1 | 3 | 5 |\n",
       "| b | 2 | 4 | 6 |\n",
       "\n"
      ],
      "text/plain": [
       "  I II III\n",
       "a 1 3  5  \n",
       "b 2 4  6  "
      ]
     },
     "metadata": {},
     "output_type": "display_data"
    }
   ],
   "source": [
    "v = matrix(c(1:6), nrow=2)\n",
    "colnames(v) = c('I', 'II', 'III')\n",
    "rownames(v) = c('a', 'b')\n",
    "v"
   ]
  },
  {
   "cell_type": "code",
   "execution_count": 42,
   "metadata": {
    "vscode": {
     "languageId": "r"
    }
   },
   "outputs": [
    {
     "data": {
      "text/html": [
       "6"
      ],
      "text/latex": [
       "6"
      ],
      "text/markdown": [
       "6"
      ],
      "text/plain": [
       "[1] 6"
      ]
     },
     "metadata": {},
     "output_type": "display_data"
    },
    {
     "data": {
      "text/html": [
       "<style>\n",
       ".dl-inline {width: auto; margin:0; padding: 0}\n",
       ".dl-inline>dt, .dl-inline>dd {float: none; width: auto; display: inline-block}\n",
       ".dl-inline>dt::after {content: \":\\0020\"; padding-right: .5ex}\n",
       ".dl-inline>dt:not(:first-of-type) {padding-left: .5ex}\n",
       "</style><dl class=dl-inline><dt>a</dt><dd>1</dd><dt>b</dt><dd>2</dd></dl>\n"
      ],
      "text/latex": [
       "\\begin{description*}\n",
       "\\item[a] 1\n",
       "\\item[b] 2\n",
       "\\end{description*}\n"
      ],
      "text/markdown": [
       "a\n",
       ":   1b\n",
       ":   2\n",
       "\n"
      ],
      "text/plain": [
       "a b \n",
       "1 2 "
      ]
     },
     "metadata": {},
     "output_type": "display_data"
    },
    {
     "data": {
      "text/html": [
       "<style>\n",
       ".dl-inline {width: auto; margin:0; padding: 0}\n",
       ".dl-inline>dt, .dl-inline>dd {float: none; width: auto; display: inline-block}\n",
       ".dl-inline>dt::after {content: \":\\0020\"; padding-right: .5ex}\n",
       ".dl-inline>dt:not(:first-of-type) {padding-left: .5ex}\n",
       "</style><dl class=dl-inline><dt>I</dt><dd>1</dd><dt>II</dt><dd>3</dd><dt>III</dt><dd>5</dd></dl>\n"
      ],
      "text/latex": [
       "\\begin{description*}\n",
       "\\item[I] 1\n",
       "\\item[II] 3\n",
       "\\item[III] 5\n",
       "\\end{description*}\n"
      ],
      "text/markdown": [
       "I\n",
       ":   1II\n",
       ":   3III\n",
       ":   5\n",
       "\n"
      ],
      "text/plain": [
       "  I  II III \n",
       "  1   3   5 "
      ]
     },
     "metadata": {},
     "output_type": "display_data"
    }
   ],
   "source": [
    "v[2,3]\n",
    "v[, 'I']\n",
    "v['a',]"
   ]
  },
  {
   "cell_type": "code",
   "execution_count": 46,
   "metadata": {
    "vscode": {
     "languageId": "r"
    }
   },
   "outputs": [
    {
     "data": {
      "text/html": [
       "<style>\n",
       ".list-inline {list-style: none; margin:0; padding: 0}\n",
       ".list-inline>li {display: inline-block}\n",
       ".list-inline>li:not(:last-child)::after {content: \"\\00b7\"; padding: 0 .5ex}\n",
       "</style>\n",
       "<ol class=list-inline><li>1</li><li>2</li><li>3</li><li>4</li><li>5</li><li>6</li><li>7</li><li>8</li><li>9</li></ol>\n"
      ],
      "text/latex": [
       "\\begin{enumerate*}\n",
       "\\item 1\n",
       "\\item 2\n",
       "\\item 3\n",
       "\\item 4\n",
       "\\item 5\n",
       "\\item 6\n",
       "\\item 7\n",
       "\\item 8\n",
       "\\item 9\n",
       "\\end{enumerate*}\n"
      ],
      "text/markdown": [
       "1. 1\n",
       "2. 2\n",
       "3. 3\n",
       "4. 4\n",
       "5. 5\n",
       "6. 6\n",
       "7. 7\n",
       "8. 8\n",
       "9. 9\n",
       "\n",
       "\n"
      ],
      "text/plain": [
       "[1] 1 2 3 4 5 6 7 8 9"
      ]
     },
     "metadata": {},
     "output_type": "display_data"
    }
   ],
   "source": [
    "e = c()\n",
    "for ( i in 1:9) {\n",
    "    e[i] = i\n",
    "}\n",
    "e"
   ]
  },
  {
   "cell_type": "code",
   "execution_count": 2,
   "metadata": {
    "vscode": {
     "languageId": "r"
    }
   },
   "outputs": [
    {
     "data": {
      "text/html": [
       "<style>\n",
       ".list-inline {list-style: none; margin:0; padding: 0}\n",
       ".list-inline>li {display: inline-block}\n",
       ".list-inline>li:not(:last-child)::after {content: \"\\00b7\"; padding: 0 .5ex}\n",
       "</style>\n",
       "<ol class=list-inline><li>1</li><li>2</li><li>3</li><li>4</li><li>5</li><li>6</li><li>7</li><li>8</li></ol>\n"
      ],
      "text/latex": [
       "\\begin{enumerate*}\n",
       "\\item 1\n",
       "\\item 2\n",
       "\\item 3\n",
       "\\item 4\n",
       "\\item 5\n",
       "\\item 6\n",
       "\\item 7\n",
       "\\item 8\n",
       "\\end{enumerate*}\n"
      ],
      "text/markdown": [
       "1. 1\n",
       "2. 2\n",
       "3. 3\n",
       "4. 4\n",
       "5. 5\n",
       "6. 6\n",
       "7. 7\n",
       "8. 8\n",
       "\n",
       "\n"
      ],
      "text/plain": [
       "[1] 1 2 3 4 5 6 7 8"
      ]
     },
     "metadata": {},
     "output_type": "display_data"
    }
   ],
   "source": [
    "we = c()\n",
    "i=1\n",
    "while(TRUE) {\n",
    "    we[i] = i\n",
    "    i=i+1\n",
    "    if (i==9) {\n",
    "        break\n",
    "    }\n",
    "}\n",
    "we"
   ]
  },
  {
   "cell_type": "code",
   "execution_count": 6,
   "metadata": {
    "vscode": {
     "languageId": "r"
    }
   },
   "outputs": [
    {
     "name": "stdout",
     "output_type": "stream",
     "text": [
      "[1] 1275\n"
     ]
    }
   ],
   "source": [
    "func = function(a){\n",
    "    isum=0\n",
    "    for (i in 1:a){\n",
    "        isum = isum + i\n",
    "    }\n",
    "    print(isum)\n",
    "}\n",
    "\n",
    "func(50)"
   ]
  },
  {
   "cell_type": "code",
   "execution_count": 7,
   "metadata": {
    "vscode": {
     "languageId": "r"
    }
   },
   "outputs": [
    {
     "data": {
      "text/html": [
       "'ouwa'"
      ],
      "text/latex": [
       "'ouwa'"
      ],
      "text/markdown": [
       "'ouwa'"
      ],
      "text/plain": [
       "[1] \"ouwa\""
      ]
     },
     "metadata": {},
     "output_type": "display_data"
    }
   ],
   "source": [
    "substr('youwannamarryme', 2, 5)"
   ]
  },
  {
   "cell_type": "code",
   "execution_count": 8,
   "metadata": {
    "vscode": {
     "languageId": "r"
    }
   },
   "outputs": [
    {
     "data": {
      "text/html": [
       "<style>\n",
       ".list-inline {list-style: none; margin:0; padding: 0}\n",
       ".list-inline>li {display: inline-block}\n",
       ".list-inline>li:not(:last-child)::after {content: \"\\00b7\"; padding: 0 .5ex}\n",
       "</style>\n",
       "<ol class=list-inline><li>'func'</li><li>'i'</li><li>'we'</li></ol>\n"
      ],
      "text/latex": [
       "\\begin{enumerate*}\n",
       "\\item 'func'\n",
       "\\item 'i'\n",
       "\\item 'we'\n",
       "\\end{enumerate*}\n"
      ],
      "text/markdown": [
       "1. 'func'\n",
       "2. 'i'\n",
       "3. 'we'\n",
       "\n",
       "\n"
      ],
      "text/plain": [
       "[1] \"func\" \"i\"    \"we\"  "
      ]
     },
     "metadata": {},
     "output_type": "display_data"
    }
   ],
   "source": [
    "ls()"
   ]
  },
  {
   "cell_type": "code",
   "execution_count": 10,
   "metadata": {
    "vscode": {
     "languageId": "r"
    }
   },
   "outputs": [
    {
     "data": {
      "text/html": [
       "6"
      ],
      "text/latex": [
       "6"
      ],
      "text/markdown": [
       "6"
      ],
      "text/plain": [
       "[1] 6"
      ]
     },
     "metadata": {},
     "output_type": "display_data"
    },
    {
     "data": {
      "text/html": [
       "1"
      ],
      "text/latex": [
       "1"
      ],
      "text/markdown": [
       "1"
      ],
      "text/plain": [
       "[1] 1"
      ]
     },
     "metadata": {},
     "output_type": "display_data"
    }
   ],
   "source": [
    "cov(we, we)\n",
    "cor(we, we)"
   ]
  },
  {
   "cell_type": "code",
   "execution_count": 11,
   "metadata": {
    "vscode": {
     "languageId": "r"
    }
   },
   "outputs": [
    {
     "data": {
      "text/html": [
       "<time datetime=\"2024-01-24\">2024-01-24</time>"
      ],
      "text/latex": [
       "2024-01-24"
      ],
      "text/markdown": [
       "2024-01-24"
      ],
      "text/plain": [
       "[1] \"2024-01-24\""
      ]
     },
     "metadata": {},
     "output_type": "display_data"
    },
    {
     "data": {
      "text/plain": [
       "[1] \"2024-01-24 14:11:00 UTC\""
      ]
     },
     "metadata": {},
     "output_type": "display_data"
    },
    {
     "data": {
      "text/html": [
       "<time datetime=\"2024-01-01\">2024-01-01</time>"
      ],
      "text/latex": [
       "2024-01-01"
      ],
      "text/markdown": [
       "2024-01-01"
      ],
      "text/plain": [
       "[1] \"2024-01-01\""
      ]
     },
     "metadata": {},
     "output_type": "display_data"
    }
   ],
   "source": [
    "Sys.Date()\n",
    "Sys.time()\n",
    "as.Date('2024-01-01')"
   ]
  },
  {
   "cell_type": "code",
   "execution_count": null,
   "metadata": {
    "vscode": {
     "languageId": "r"
    }
   },
   "outputs": [],
   "source": []
  }
 ],
 "metadata": {
  "kernelspec": {
   "display_name": "R",
   "language": "R",
   "name": "ir"
  },
  "language_info": {
   "codemirror_mode": "r",
   "file_extension": ".r",
   "mimetype": "text/x-r-source",
   "name": "R",
   "pygments_lexer": "r",
   "version": "4.3.2"
  }
 },
 "nbformat": 4,
 "nbformat_minor": 2
}
